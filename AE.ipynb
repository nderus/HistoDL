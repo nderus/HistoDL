{
 "cells": [
  {
   "cell_type": "code",
   "execution_count": null,
   "metadata": {},
   "outputs": [],
   "source": [
    "#https://www.tensorflow.org/probability/examples/Probabilistic_Layers_VAE#dependencies_prerequisites\n",
    "import keras\n",
    "from tensorflow.keras import layers\n",
    "import tensorflow as tf\n",
    "import numpy as np\n",
    "from tensorflow.keras.utils import plot_model\n",
    "from tensorflow.keras import backend as K\n",
    "#import tensorflow_addons as tfa\n",
    "\n",
    "input_shape = (50, 50, 3)\n",
    "num_features = 7500#50*50*3\n",
    "latent_dim = 32"
   ]
  },
  {
   "cell_type": "code",
   "execution_count": null,
   "metadata": {},
   "outputs": [],
   "source": [
    "def encoder_CNN(input_shape = (50, 50, 3), latent_dim = 2):\n",
    "\n",
    "    inputs = layers.Input(shape=input_shape, name='Input')\n",
    "\n",
    "    # layer 1\n",
    "    x = layers.Conv2D(filters=6, kernel_size=5, strides=1,padding='valid',name='C1')(inputs)\n",
    "    x = layers.BatchNormalization()(x)\n",
    "    x = layers.ReLU()(x)\n",
    "   # x = layers.MaxPool2D(pool_size=2, strides=2,name='S2')(x)\n",
    "\n",
    "    # layer 2\n",
    "    x = layers.Conv2D(filters=16, kernel_size=5,strides=1,padding='valid',name='C3')(x)\n",
    "    x = layers.BatchNormalization()(x)\n",
    "    x = layers.ReLU()(x)\n",
    "   # x = layers.MaxPool2D(pool_size=2, strides=2,name='S4')(x)\n",
    "\n",
    "    # layer 3\n",
    "    x = layers.Conv2D(filters=120, kernel_size=5,strides=1,padding='valid',name='C5')(x)\n",
    "    x = layers.BatchNormalization()(x)\n",
    "    x = layers.ReLU()(x)\n",
    "    x = layers.Flatten()(x)\n",
    "\n",
    "    y = layers.Dense(84, activation ='relu',name='F6')(x)\n",
    "    outputs = layers.Dense(latent_dim, activation='relu', name='outputs')(y)\n",
    "    model = keras.Model(inputs, outputs, name='encoder')\n",
    "    \n",
    "    return model"
   ]
  },
  {
   "cell_type": "code",
   "execution_count": 16,
   "metadata": {},
   "outputs": [],
   "source": [
    "def encoder_CNN(input_shape = (50, 50, 3), latent_dim = 2):\n",
    "\n",
    "    inputs = layers.Input(shape=input_shape, name='Input')\n",
    "\n",
    "    # layer 1\n",
    "    x = layers.Conv2D(filters=64, kernel_size=2, strides=1,padding='valid',name='C1')(inputs)\n",
    "    x = layers.BatchNormalization()(x)\n",
    "    x = layers.ReLU()(x)\n",
    "   # x = layers.MaxPool2D(pool_size=2, strides=2,name='S2')(x)\n",
    "\n",
    "    # layer 2\n",
    "    x = layers.Conv2D(filters=64, kernel_size=2,strides=1,padding='valid',name='C3')(x)\n",
    "    x = layers.BatchNormalization()(x)\n",
    "    x = layers.ReLU()(x)\n",
    "   # x = layers.MaxPool2D(pool_size=2, strides=2,name='S4')(x)\n",
    "\n",
    "    # layer 3\n",
    "    x = layers.Conv2D(filters=64, kernel_size=3,strides=1,padding='valid',name='C5')(x)\n",
    "    x = layers.BatchNormalization()(x)\n",
    "    x = layers.ReLU()(x)\n",
    "\n",
    "\n",
    "    x = layers.Flatten()(x)\n",
    "\n",
    "    y = layers.Dense(256, activation ='relu',name='F6')(x)\n",
    "    \n",
    "    outputs = layers.Dense(latent_dim, activation='relu', name='outputs')(y)\n",
    "    model = keras.Model(inputs, outputs, name='encoder')\n",
    "    \n",
    "    return model"
   ]
  },
  {
   "cell_type": "code",
   "execution_count": 26,
   "metadata": {},
   "outputs": [
    {
     "name": "stdout",
     "output_type": "stream",
     "text": [
      "Model: \"encoder\"\n",
      "_________________________________________________________________\n",
      " Layer (type)                Output Shape              Param #   \n",
      "=================================================================\n",
      " Input (InputLayer)          [(None, 50, 50, 3)]       0         \n",
      "                                                                 \n",
      " conv_block_12 (ConvBlock)   (None, 49, 49, 64)        1088      \n",
      "                                                                 \n",
      " conv_block_13 (ConvBlock)   (None, 48, 48, 64)        16704     \n",
      "                                                                 \n",
      " conv_block_14 (ConvBlock)   (None, 46, 46, 64)        37184     \n",
      "                                                                 \n",
      " F6 (Dense)                  (None, 46, 46, 256)       16640     \n",
      "                                                                 \n",
      " outputs (Dense)             (None, 46, 46, 100)       25700     \n",
      "                                                                 \n",
      "=================================================================\n",
      "Total params: 97,316\n",
      "Trainable params: 96,932\n",
      "Non-trainable params: 384\n",
      "_________________________________________________________________\n"
     ]
    }
   ],
   "source": [
    "encoder = encoder_CNN(latent_dim = latent_dim)\n",
    "encoder.summary()\n"
   ]
  },
  {
   "cell_type": "code",
   "execution_count": null,
   "metadata": {},
   "outputs": [],
   "source": [
    "def decoder_CNN(input_shape = (50, 50, 3), latent_dim = 2):\n",
    "    latent_inputs = layers.Input(shape=(latent_dim,))\n",
    "    x = layers.Dense(84, activation ='tanh',name='F6l')(latent_inputs)\n",
    "    x = layers.Dropout(0.3)(latent_inputs)\n",
    "    x = layers.Dense(5*5*120, activation='relu')(x)\n",
    "    x = layers.Dropout(0.3)(x)\n",
    "    x = layers.Reshape(target_shape=(5, 5, 120))(x) #(5, 5, 120)\n",
    "    #x = tfa.layers.MaxUnpooling2D((2,2), name='S4l')(x) # (10, 10, 120)\n",
    "    x = layers.Conv2DTranspose(filters=16, kernel_size=5,strides=1,padding='valid',name='C5l')(x)\n",
    "    x = layers.BatchNormalization()(x)\n",
    "    x = layers.ReLU()(x)\n",
    "   # x = tfa.layers.MaxUnpooling2D((2,2))(x)\n",
    "    x = layers.Conv2DTranspose(filters=6, kernel_size=5, strides=1,padding='valid',name='C1l')(x)\n",
    "    x = layers.BatchNormalization()(x)\n",
    "    x = layers.ReLU()(x)\n",
    "    outputs = layers.Conv2DTranspose(filters=3, kernel_size=19, strides=1,activation='sigmoid',padding='valid')(x)\n",
    "   # outputs = layers.Reshape(target_shape=(50, 50, 3), name='output')(x)\n",
    "    model = keras.Model(latent_inputs, outputs, name='decoder')\n",
    "    return model\n",
    "\n",
    "    "
   ]
  },
  {
   "cell_type": "code",
   "execution_count": null,
   "metadata": {},
   "outputs": [],
   "source": [
    "def decoder_CNN(input_shape = (50, 50, 3), latent_dim = 2):\n",
    "    latent_inputs = layers.Input(shape=(latent_dim,))\n",
    "\n",
    "    #layer 1\n",
    "    x = layers.Dense(256, activation ='tanh',name='F6l')(latent_inputs)\n",
    "\n",
    "    #layer 2\n",
    "    x = layers.Dense(25*25*64, activation='relu')(x)\n",
    "    x = layers.Dropout(0.2)(x)\n",
    "    x = layers.Reshape((25, 25, 64))(x)\n",
    "\n",
    "    #x = layers.Reshape(target_shape=(5, 5, 120))(x) #(5, 5, 120)\n",
    "    # layer 3\n",
    "    x = layers.Conv2DTranspose(filters=64, kernel_size=3,strides=1,padding='valid',name='C5l')(x)\n",
    "    x = layers.BatchNormalization()(x)\n",
    "    x = layers.ReLU()(x)\n",
    "    \n",
    "    # layer 4\n",
    "    x = layers.Conv2DTranspose(filters=64, kernel_size=3, strides=2,padding='valid',name='C1l')(x)\n",
    "    x = layers.BatchNormalization()(x)\n",
    "    x = layers.ReLU()(x)\n",
    "\n",
    "\n",
    "    outputs = layers.Conv2D(filters=3, kernel_size=6, strides=1,activation='sigmoid',padding='valid')(x)\n",
    "\n",
    "    model = keras.Model(latent_inputs, outputs, name='decoder')\n",
    "    return model\n"
   ]
  },
  {
   "cell_type": "code",
   "execution_count": null,
   "metadata": {},
   "outputs": [],
   "source": [
    "decoder = decoder_CNN(latent_dim = latent_dim)\n",
    "decoder.summary()"
   ]
  },
  {
   "cell_type": "code",
   "execution_count": null,
   "metadata": {},
   "outputs": [],
   "source": [
    "def AE(input_shape, latent_dim, encoder, decoder):\n",
    "    vae_input = layers.Input(shape = input_shape, name=\"AE_input\")\n",
    "    encoder_output = encoder(vae_input)\n",
    "    decoder_output = decoder(encoder_output)\n",
    "    model = keras.Model(vae_input, decoder_output, name='AE')\n",
    "    return model"
   ]
  },
  {
   "cell_type": "code",
   "execution_count": null,
   "metadata": {},
   "outputs": [],
   "source": [
    "ae = AE(input_shape, latent_dim, encoder, decoder)\n",
    "ae.summary()\n",
    "plot_model(ae,show_shapes=True, show_layer_names=True,expand_nested=True)"
   ]
  },
  {
   "cell_type": "code",
   "execution_count": null,
   "metadata": {},
   "outputs": [],
   "source": [
    "def ae_loss(y_true, y_predict):\n",
    "    reconstruction_loss_factor = 1\n",
    "    reconstruction_loss = K.mean(K.square(y_true - y_predict), axis=[1, 2, 3])\n",
    "    return reconstruction_loss_factor * reconstruction_loss"
   ]
  },
  {
   "cell_type": "code",
   "execution_count": null,
   "metadata": {},
   "outputs": [],
   "source": [
    "#Information needed to compute the loss function\n",
    "ae_input = ae.input\n",
    "ae_output = ae.output\n",
    "\n",
    "ae.add_loss(ae_loss( ae_input, ae_output))\n"
   ]
  },
  {
   "cell_type": "code",
   "execution_count": null,
   "metadata": {},
   "outputs": [],
   "source": [
    "ae.compile(optimizer='adam')\n",
    "ae.save('models/ae.h5')  \n",
    "encoder.save('models/ae_encoder.h5')\n",
    "decoder.save('models/ae_decoder.h5')    \n",
    "ae.compile(optimizer='adam')"
   ]
  },
  {
   "cell_type": "code",
   "execution_count": null,
   "metadata": {},
   "outputs": [],
   "source": []
  }
 ],
 "metadata": {
  "interpreter": {
   "hash": "0284a593613b942586af6b8f0d4ee916e356aed836174e2f823c929bc6bc05cc"
  },
  "kernelspec": {
   "display_name": "Python 3.9.10 ('dis_vae')",
   "language": "python",
   "name": "python3"
  },
  "language_info": {
   "codemirror_mode": {
    "name": "ipython",
    "version": 3
   },
   "file_extension": ".py",
   "mimetype": "text/x-python",
   "name": "python",
   "nbconvert_exporter": "python",
   "pygments_lexer": "ipython3",
   "version": "3.9.10"
  },
  "orig_nbformat": 4
 },
 "nbformat": 4,
 "nbformat_minor": 2
}
